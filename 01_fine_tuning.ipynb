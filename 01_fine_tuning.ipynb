{
 "cells": [
  {
   "cell_type": "markdown",
   "id": "84492957-a06a-4daf-bd76-2040cd590178",
   "metadata": {
    "jp-MarkdownHeadingCollapsed": true,
    "tags": []
   },
   "source": [
    "### Imports"
   ]
  },
  {
   "cell_type": "code",
   "execution_count": 3,
   "id": "0f8fad2f-e950-4e33-b918-c7fdc9c038d4",
   "metadata": {},
   "outputs": [],
   "source": [
    "import numpy as np\n",
    "import matplotlib.pyplot as plt\n",
    "import librosa\n",
    "import librosa.display\n",
    "\n",
    "import os\n",
    "import numpy as np\n",
    "import matplotlib.pyplot as plt\n",
    "from IPython import display\n",
    "import pandas as pd\n",
    "\n",
    "import scipy.fft\n",
    "from ipywidgets import interact\n",
    "import ipywidgets as widgets\n",
    "\n",
    "import h5py\n",
    "\n",
    "import torch # downgraded to 1.10\n",
    "import torchvision\n",
    "import torch.nn as nn\n",
    "from torch.nn import functional as F\n",
    "from torchvision import transforms\n",
    "from torch.utils.data import DataLoader, TensorDataset\n",
    "import torch.utils.data\n",
    "import torch.optim as optim\n",
    "import torchaudio.transforms as T\n",
    "\n",
    "import scipy.io\n",
    "\n",
    "from scipy.signal import resample \n",
    "\n",
    "from torch.autograd import Variable\n",
    "\n",
    "#import tensorflow as tf\n",
    "\n",
    "import matplotlib.pyplot as plt"
   ]
  },
  {
   "cell_type": "code",
   "execution_count": 4,
   "id": "1ec08f0b-692a-4c3e-ac1d-8fa72fb18d6a",
   "metadata": {},
   "outputs": [],
   "source": [
    "# Custom imports (code wrote by us)\n",
    "from helpers import read_simulated_data, read_experimental_data, get_mel, resample_signal"
   ]
  },
  {
   "cell_type": "code",
   "execution_count": 5,
   "id": "e4bb52c3-d694-4f0e-85fe-868f5402f3f4",
   "metadata": {},
   "outputs": [],
   "source": [
    "%load_ext autoreload\n",
    "%autoreload 2"
   ]
  },
  {
   "cell_type": "markdown",
   "id": "632f4d05-ad2b-4e60-a8dc-89f072d403b5",
   "metadata": {},
   "source": [
    "### Import data"
   ]
  },
  {
   "cell_type": "code",
   "execution_count": 9,
   "id": "c305453f-51d1-492e-94fc-847ea633bc37",
   "metadata": {},
   "outputs": [],
   "source": [
    "# Experimental files\n",
    "#files = ['0_0BRB.mat']\n",
    "         #,'0_1BRB.mat','0_2BRB.mat','0_3BRB.mat','0_0BRB.mat',\n",
    "         #'25_0BRB.mat','25_1BRB.mat','25_2BRB.mat','25_3BRB.mat',\n",
    "         #'50_0BRB.mat','50_1BRB.mat','50_2BRB.mat','50_3BRB.mat',\n",
    "         #'75_0BRB.mat','75_1BRB.mat','75_2BRB.mat','75_3BRB.mat',\n",
    "         #'100_0BRB.mat','100_1BRB.mat','100_2BRB.mat','100_3BRB.mat']"
   ]
  },
  {
   "cell_type": "code",
   "execution_count": 8,
   "id": "edbb7981-3bca-4745-bbc0-21bf13fafd82",
   "metadata": {},
   "outputs": [],
   "source": [
    "simulated_files = ['100_3BRB_Simu.mat']\n",
    "experimental_files = ['100_3BRB.mat']\n",
    "data_dir = 'data'\n",
    "\n",
    "dataset = {}\n",
    "for file in simulated_files:\n",
    "    name, data_variable, time_variable = read_simulated_data(file, data_dir, verbose=False)\n",
    "    dataset[name] = (data_variable, time_variable)\n",
    "    \n",
    "for file in experimental_files:\n",
    "    name, data_variable, time_variable = read_experimental_data(file, data_dir, verbose=False)\n",
    "    dataset[name] = (data_variable, time_variable)"
   ]
  },
  {
   "cell_type": "code",
   "execution_count": 21,
   "id": "4c45f638-3017-4cc4-98de-55c733f93cd6",
   "metadata": {},
   "outputs": [],
   "source": [
    "import json \n",
    "import torch\n",
    "from env import AttrDict\n",
    "from models import Generator, MultiPeriodDiscriminator, MultiScaleDiscriminator\n",
    "\n",
    "# Problem: we don't know which discriminator weights we got, \n",
    "# as there are two models and a single set of weights!!!\n",
    "\n",
    "def load_model(\n",
    "    model_to_load='generator', \n",
    "    model_dir='weights', \n",
    "    generator_name='g_02500000', \n",
    "    discriminator_name='do_02500000', \n",
    "    device='cpu'\n",
    "):\n",
    "    if model_to_load == 'generator':\n",
    "        model_name = generator_name\n",
    "    elif model_to_load=='discriminator':\n",
    "        model_name = discriminator_name\n",
    "    else:\n",
    "        raise NotImplementedError\n",
    "        \n",
    "    model_file = os.path.join(model_dir, model_name)\n",
    "    with open(os.path.join(model_dir,'config.json')) as f:\n",
    "        _data = f.read()\n",
    "\n",
    "    global h\n",
    "    json_config = json.loads(_data)\n",
    "    h = AttrDict(json_config) \n",
    "    \n",
    "    # Init model\n",
    "    if model_to_load == 'generator':\n",
    "        generator = Generator(h).to(device)\n",
    "        # Load checkpoint from file to the model weights\n",
    "        state_dict = torch.load(model_file, map_location=device)\n",
    "        generator.load_state_dict(state_dict['generator'])\n",
    "        return generator\n",
    "    else:\n",
    "        mpd = MultiPeriodDiscriminator().to(device)\n",
    "        msd = MultiScaleDiscriminator().to(device)\n",
    "        # Load checkpoint from file to the model weights\n",
    "        state_dict = torch.load(model_file, map_location=device) # for both models at the same time\n",
    "        # dict_keys(['mpd', 'msd', 'optim_g', 'optim_d', 'steps', 'epoch'])\n",
    "        mpd.load_state_dict(state_dict['mpd'])\n",
    "        msd.load_state_dict(state_dict['msd'])\n",
    "        return mpd, msd\n",
    "    \n"
   ]
  },
  {
   "cell_type": "code",
   "execution_count": 20,
   "id": "e03a35c9-21f6-48f1-b8b2-59e439075d9b",
   "metadata": {},
   "outputs": [],
   "source": [
    "generator = load_model(model_to_load='generator')"
   ]
  },
  {
   "cell_type": "code",
   "execution_count": 22,
   "id": "70c2d6d3-d7b5-4227-b445-24bd8f61c8bb",
   "metadata": {},
   "outputs": [
    {
     "name": "stdout",
     "output_type": "stream",
     "text": [
      "state_dict.keys() dict_keys(['mpd', 'msd', 'optim_g', 'optim_d', 'steps', 'epoch'])\n"
     ]
    }
   ],
   "source": [
    "discriminators = load_model(model_to_load='discriminator')\n",
    "mpd, msd = discriminators"
   ]
  },
  {
   "cell_type": "code",
   "execution_count": 23,
   "id": "9fc34b46-01ea-4b5e-927a-d0c4f3161ef6",
   "metadata": {
    "collapsed": true,
    "jupyter": {
     "outputs_hidden": true
    },
    "tags": []
   },
   "outputs": [
    {
     "data": {
      "text/plain": [
       "MultiPeriodDiscriminator(\n",
       "  (discriminators): ModuleList(\n",
       "    (0): DiscriminatorP(\n",
       "      (convs): ModuleList(\n",
       "        (0): Conv2d(1, 32, kernel_size=(5, 1), stride=(3, 1), padding=(2, 0))\n",
       "        (1): Conv2d(32, 128, kernel_size=(5, 1), stride=(3, 1), padding=(2, 0))\n",
       "        (2): Conv2d(128, 512, kernel_size=(5, 1), stride=(3, 1), padding=(2, 0))\n",
       "        (3): Conv2d(512, 1024, kernel_size=(5, 1), stride=(3, 1), padding=(2, 0))\n",
       "        (4): Conv2d(1024, 1024, kernel_size=(5, 1), stride=(1, 1), padding=(2, 0))\n",
       "      )\n",
       "      (conv_post): Conv2d(1024, 1, kernel_size=(3, 1), stride=(1, 1), padding=(1, 0))\n",
       "    )\n",
       "    (1): DiscriminatorP(\n",
       "      (convs): ModuleList(\n",
       "        (0): Conv2d(1, 32, kernel_size=(5, 1), stride=(3, 1), padding=(2, 0))\n",
       "        (1): Conv2d(32, 128, kernel_size=(5, 1), stride=(3, 1), padding=(2, 0))\n",
       "        (2): Conv2d(128, 512, kernel_size=(5, 1), stride=(3, 1), padding=(2, 0))\n",
       "        (3): Conv2d(512, 1024, kernel_size=(5, 1), stride=(3, 1), padding=(2, 0))\n",
       "        (4): Conv2d(1024, 1024, kernel_size=(5, 1), stride=(1, 1), padding=(2, 0))\n",
       "      )\n",
       "      (conv_post): Conv2d(1024, 1, kernel_size=(3, 1), stride=(1, 1), padding=(1, 0))\n",
       "    )\n",
       "    (2): DiscriminatorP(\n",
       "      (convs): ModuleList(\n",
       "        (0): Conv2d(1, 32, kernel_size=(5, 1), stride=(3, 1), padding=(2, 0))\n",
       "        (1): Conv2d(32, 128, kernel_size=(5, 1), stride=(3, 1), padding=(2, 0))\n",
       "        (2): Conv2d(128, 512, kernel_size=(5, 1), stride=(3, 1), padding=(2, 0))\n",
       "        (3): Conv2d(512, 1024, kernel_size=(5, 1), stride=(3, 1), padding=(2, 0))\n",
       "        (4): Conv2d(1024, 1024, kernel_size=(5, 1), stride=(1, 1), padding=(2, 0))\n",
       "      )\n",
       "      (conv_post): Conv2d(1024, 1, kernel_size=(3, 1), stride=(1, 1), padding=(1, 0))\n",
       "    )\n",
       "    (3): DiscriminatorP(\n",
       "      (convs): ModuleList(\n",
       "        (0): Conv2d(1, 32, kernel_size=(5, 1), stride=(3, 1), padding=(2, 0))\n",
       "        (1): Conv2d(32, 128, kernel_size=(5, 1), stride=(3, 1), padding=(2, 0))\n",
       "        (2): Conv2d(128, 512, kernel_size=(5, 1), stride=(3, 1), padding=(2, 0))\n",
       "        (3): Conv2d(512, 1024, kernel_size=(5, 1), stride=(3, 1), padding=(2, 0))\n",
       "        (4): Conv2d(1024, 1024, kernel_size=(5, 1), stride=(1, 1), padding=(2, 0))\n",
       "      )\n",
       "      (conv_post): Conv2d(1024, 1, kernel_size=(3, 1), stride=(1, 1), padding=(1, 0))\n",
       "    )\n",
       "    (4): DiscriminatorP(\n",
       "      (convs): ModuleList(\n",
       "        (0): Conv2d(1, 32, kernel_size=(5, 1), stride=(3, 1), padding=(2, 0))\n",
       "        (1): Conv2d(32, 128, kernel_size=(5, 1), stride=(3, 1), padding=(2, 0))\n",
       "        (2): Conv2d(128, 512, kernel_size=(5, 1), stride=(3, 1), padding=(2, 0))\n",
       "        (3): Conv2d(512, 1024, kernel_size=(5, 1), stride=(3, 1), padding=(2, 0))\n",
       "        (4): Conv2d(1024, 1024, kernel_size=(5, 1), stride=(1, 1), padding=(2, 0))\n",
       "      )\n",
       "      (conv_post): Conv2d(1024, 1, kernel_size=(3, 1), stride=(1, 1), padding=(1, 0))\n",
       "    )\n",
       "  )\n",
       ")"
      ]
     },
     "execution_count": 23,
     "metadata": {},
     "output_type": "execute_result"
    }
   ],
   "source": [
    "mpd"
   ]
  },
  {
   "cell_type": "code",
   "execution_count": 24,
   "id": "83ccdfb4-93b2-4bac-8d39-b9e03a41ff1b",
   "metadata": {
    "collapsed": true,
    "jupyter": {
     "outputs_hidden": true
    },
    "tags": []
   },
   "outputs": [
    {
     "data": {
      "text/plain": [
       "MultiScaleDiscriminator(\n",
       "  (discriminators): ModuleList(\n",
       "    (0): DiscriminatorS(\n",
       "      (convs): ModuleList(\n",
       "        (0): Conv1d(1, 128, kernel_size=(15,), stride=(1,), padding=(7,))\n",
       "        (1): Conv1d(128, 128, kernel_size=(41,), stride=(2,), padding=(20,), groups=4)\n",
       "        (2): Conv1d(128, 256, kernel_size=(41,), stride=(2,), padding=(20,), groups=16)\n",
       "        (3): Conv1d(256, 512, kernel_size=(41,), stride=(4,), padding=(20,), groups=16)\n",
       "        (4): Conv1d(512, 1024, kernel_size=(41,), stride=(4,), padding=(20,), groups=16)\n",
       "        (5): Conv1d(1024, 1024, kernel_size=(41,), stride=(1,), padding=(20,), groups=16)\n",
       "        (6): Conv1d(1024, 1024, kernel_size=(5,), stride=(1,), padding=(2,))\n",
       "      )\n",
       "      (conv_post): Conv1d(1024, 1, kernel_size=(3,), stride=(1,), padding=(1,))\n",
       "    )\n",
       "    (1): DiscriminatorS(\n",
       "      (convs): ModuleList(\n",
       "        (0): Conv1d(1, 128, kernel_size=(15,), stride=(1,), padding=(7,))\n",
       "        (1): Conv1d(128, 128, kernel_size=(41,), stride=(2,), padding=(20,), groups=4)\n",
       "        (2): Conv1d(128, 256, kernel_size=(41,), stride=(2,), padding=(20,), groups=16)\n",
       "        (3): Conv1d(256, 512, kernel_size=(41,), stride=(4,), padding=(20,), groups=16)\n",
       "        (4): Conv1d(512, 1024, kernel_size=(41,), stride=(4,), padding=(20,), groups=16)\n",
       "        (5): Conv1d(1024, 1024, kernel_size=(41,), stride=(1,), padding=(20,), groups=16)\n",
       "        (6): Conv1d(1024, 1024, kernel_size=(5,), stride=(1,), padding=(2,))\n",
       "      )\n",
       "      (conv_post): Conv1d(1024, 1, kernel_size=(3,), stride=(1,), padding=(1,))\n",
       "    )\n",
       "    (2): DiscriminatorS(\n",
       "      (convs): ModuleList(\n",
       "        (0): Conv1d(1, 128, kernel_size=(15,), stride=(1,), padding=(7,))\n",
       "        (1): Conv1d(128, 128, kernel_size=(41,), stride=(2,), padding=(20,), groups=4)\n",
       "        (2): Conv1d(128, 256, kernel_size=(41,), stride=(2,), padding=(20,), groups=16)\n",
       "        (3): Conv1d(256, 512, kernel_size=(41,), stride=(4,), padding=(20,), groups=16)\n",
       "        (4): Conv1d(512, 1024, kernel_size=(41,), stride=(4,), padding=(20,), groups=16)\n",
       "        (5): Conv1d(1024, 1024, kernel_size=(41,), stride=(1,), padding=(20,), groups=16)\n",
       "        (6): Conv1d(1024, 1024, kernel_size=(5,), stride=(1,), padding=(2,))\n",
       "      )\n",
       "      (conv_post): Conv1d(1024, 1, kernel_size=(3,), stride=(1,), padding=(1,))\n",
       "    )\n",
       "  )\n",
       "  (meanpools): ModuleList(\n",
       "    (0): AvgPool1d(kernel_size=(4,), stride=(2,), padding=(2,))\n",
       "    (1): AvgPool1d(kernel_size=(4,), stride=(2,), padding=(2,))\n",
       "  )\n",
       ")"
      ]
     },
     "execution_count": 24,
     "metadata": {},
     "output_type": "execute_result"
    }
   ],
   "source": [
    "msd"
   ]
  },
  {
   "cell_type": "code",
   "execution_count": 11,
   "id": "9006c2a2-a614-47d2-bf6b-33c48947e68e",
   "metadata": {},
   "outputs": [],
   "source": [
    "def process_sample():\n",
    "    pass"
   ]
  },
  {
   "cell_type": "code",
   "execution_count": null,
   "id": "a21fd52a-44a6-44d3-a945-a416ab1acd97",
   "metadata": {},
   "outputs": [],
   "source": []
  }
 ],
 "metadata": {
  "kernelspec": {
   "display_name": "hifi-gan",
   "language": "python",
   "name": "hifi-gan"
  },
  "language_info": {
   "codemirror_mode": {
    "name": "ipython",
    "version": 3
   },
   "file_extension": ".py",
   "mimetype": "text/x-python",
   "name": "python",
   "nbconvert_exporter": "python",
   "pygments_lexer": "ipython3",
   "version": "3.6.13"
  }
 },
 "nbformat": 4,
 "nbformat_minor": 5
}
